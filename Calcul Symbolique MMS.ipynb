{
 "cells": [
  {
   "cell_type": "code",
   "execution_count": 1,
   "id": "07cd2ebf",
   "metadata": {},
   "outputs": [],
   "source": [
    "import sympy as sb\n",
    "import matplotlib.pyplot as plt\n",
    "import numpy as np\n",
    "sb.init_printing()\n",
    "%matplotlib inline"
   ]
  },
  {
   "cell_type": "code",
   "execution_count": 32,
   "id": "9aa3a770",
   "metadata": {},
   "outputs": [
    {
     "data": {
      "image/png": "[encoded data removed]",
      "text/latex": [
       "$\\displaystyle T_{0} + e^{\\frac{t}{t_{0}}} \\sin{\\left(\\frac{\\pi r}{r_{0}} \\right)}$"
      ],
      "text/plain": [
       "      t          \n",
       "      ──         \n",
       "      t₀    ⎛π⋅r⎞\n",
       "T₀ + ℯ  ⋅sin⎜───⎟\n",
       "            ⎝ r₀⎠"
      ]
     },
     "execution_count": 32,
     "metadata": {},
     "output_type": "execute_result"
    }
   ],
   "source": [
    "t,r=sb.symbols(\"t,r\")\n",
    "T0,t0,r0=sb.symbols(\"T0,t0,r0\")\n",
    "h,k,e=sb.symbols(\"h,k,e\")\n",
    "Eq_MMS=T0+sb.exp(t/t0)*sb.sin(sb.pi*r/r0)\n",
    "Eq_MMS"
   ]
  },
  {
   "cell_type": "code",
   "execution_count": 33,
   "id": "0baacd54",
   "metadata": {},
   "outputs": [
    {
     "data": {
      "image/png": "[encoded data removed]",
      "text/latex": [
       "$\\displaystyle \\frac{\\pi e^{\\frac{t}{t_{0}}} \\cos{\\left(\\frac{\\pi r}{r_{0}} \\right)}}{r_{0}}$"
      ],
      "text/plain": [
       "   t          \n",
       "   ──         \n",
       "   t₀    ⎛π⋅r⎞\n",
       "π⋅ℯ  ⋅cos⎜───⎟\n",
       "         ⎝ r₀⎠\n",
       "──────────────\n",
       "      r₀      "
      ]
     },
     "execution_count": 33,
     "metadata": {},
     "output_type": "execute_result"
    }
   ],
   "source": [
    "drEq_MMS=sb.diff(Eq_MMS,r).simplify()\n",
    "drEq_MMS"
   ]
  },
  {
   "cell_type": "markdown",
   "id": "7981015d",
   "metadata": {},
   "source": [
    "Calcul L(û) pour obtenir le terme source :"
   ]
  },
  {
   "cell_type": "code",
   "execution_count": 34,
   "id": "a64ff715",
   "metadata": {},
   "outputs": [
    {
     "data": {
      "image/png": "[encoded data removed]",
      "text/latex": [
       "$\\displaystyle \\frac{\\left(h r r_{0}^{2} \\sin{\\left(\\frac{\\pi r}{r_{0}} \\right)} + \\pi k t_{0} \\left(\\pi r \\sin{\\left(\\frac{\\pi r}{r_{0}} \\right)} - r_{0} \\cos{\\left(\\frac{\\pi r}{r_{0}} \\right)}\\right)\\right) e^{\\frac{t}{t_{0}}}}{h r r_{0}^{2} t_{0}}$"
      ],
      "text/plain": [
       "                                                          t \n",
       "                                                          ──\n",
       "⎛      2    ⎛π⋅r⎞          ⎛       ⎛π⋅r⎞         ⎛π⋅r⎞⎞⎞  t₀\n",
       "⎜h⋅r⋅r₀ ⋅sin⎜───⎟ + π⋅k⋅t₀⋅⎜π⋅r⋅sin⎜───⎟ - r₀⋅cos⎜───⎟⎟⎟⋅ℯ  \n",
       "⎝           ⎝ r₀⎠          ⎝       ⎝ r₀⎠         ⎝ r₀⎠⎠⎠    \n",
       "────────────────────────────────────────────────────────────\n",
       "                               2                            \n",
       "                         h⋅r⋅r₀ ⋅t₀                         "
      ]
     },
     "execution_count": 34,
     "metadata": {},
     "output_type": "execute_result"
    }
   ],
   "source": [
    "MMS=Eq_MMS.diff(t)-k/h*(Eq_MMS.diff(r,2)+(1/r)*Eq_MMS.diff(r))\n",
    "\n",
    "MMS.simplify()\n"
   ]
  },
  {
   "cell_type": "code",
   "execution_count": 23,
   "id": "6563b6fa",
   "metadata": {},
   "outputs": [],
   "source": [
    "f_MMS=sb.lambdify([r,t,T0,t0,e],Eq_MMS,\"numpy\")"
   ]
  },
  {
   "cell_type": "markdown",
   "id": "5aded3d9",
   "metadata": {},
   "source": [
    "Vérification condition de Dirichlet en r=R"
   ]
  },
  {
   "cell_type": "code",
   "execution_count": 29,
   "id": "ad756c0b",
   "metadata": {},
   "outputs": [
    {
     "data": {
      "image/png": "[encoded data removed]",
      "text/latex": [
       "$\\displaystyle 15.0$"
      ],
      "text/plain": [
       "15.0"
      ]
     },
     "execution_count": 29,
     "metadata": {},
     "output_type": "execute_result"
    }
   ],
   "source": [
    "f_MMS(46.5e-3,1,15,7200,6e-3) "
   ]
  },
  {
   "cell_type": "markdown",
   "id": "97ad2f87",
   "metadata": {},
   "source": [
    "Vérification condition de Neumann en r=0"
   ]
  },
  {
   "cell_type": "code",
   "execution_count": 38,
   "id": "c665d11f",
   "metadata": {},
   "outputs": [
    {
     "data": {
      "image/png": "[encoded data removed]",
      "text/latex": [
       "$\\displaystyle 0$"
      ],
      "text/plain": [
       "0"
      ]
     },
     "execution_count": 38,
     "metadata": {},
     "output_type": "execute_result"
    }
   ],
   "source": [
    "f_drMMS(0,1e6,0.5)"
   ]
  },
  {
   "cell_type": "markdown",
   "id": "e492a994",
   "metadata": {},
   "source": [
    "Tracé de la solution MMS pour $dt = 1e6 s$"
   ]
  },
  {
   "cell_type": "code",
   "execution_count": 55,
   "id": "0a6d4476",
   "metadata": {},
   "outputs": [
    {
     "data": {
      "text/plain": [
       "<matplotlib.legend.Legend at 0x7f7db8d306a0>"
      ]
     },
     "execution_count": 55,
     "metadata": {},
     "output_type": "execute_result"
    },
    {
     "data": {
      "image/png": "[encoded data removed]",
      "text/plain": [
       "<Figure size 432x288 with 1 Axes>"
      ]
     },
     "metadata": {
      "needs_background": "light"
     },
     "output_type": "display_data"
    }
   ],
   "source": [
    "Vr = np.linspace(0,0.5,5)\n",
    "plt.plot(Vr,f_MMS(Vr,1e6,10,0.5,1e6),label=\"MMS\")\n",
    "plt.xlabel(\"Rayon (m)\")\n",
    "plt.ylabel(\"Concentration\")\n",
    "plt.grid()\n",
    "plt.legend()"
   ]
  },
  {
   "cell_type": "markdown",
   "id": "da5e8870",
   "metadata": {},
   "source": []
  }
 ],
 "metadata": {
  "kernelspec": {
   "display_name": "Python 3.9.15 ('VandV')",
   "language": "python",
   "name": "python3"
  },
  "language_info": {
   "codemirror_mode": {
    "name": "ipython",
    "version": 3
   },
   "file_extension": ".py",
   "mimetype": "text/x-python",
   "name": "python",
   "nbconvert_exporter": "python",
   "pygments_lexer": "ipython3",
   "version": "3.9.15"
  },
  "vscode": {
   "interpreter": {
    "hash": "cdb8aa9afa5dac1b26159882922fdc48e3609ce8b1409215588d3cf06686f5ab"
   }
  }
 },
 "nbformat": 4,
 "nbformat_minor": 5
}
